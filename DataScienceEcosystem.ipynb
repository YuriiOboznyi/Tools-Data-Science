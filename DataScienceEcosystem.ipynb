{
 "cells": [
  {
   "cell_type": "markdown",
   "id": "7c37d851-2eca-43af-a6c1-f5f4bd5b7058",
   "metadata": {},
   "source": [
    "# Data Science Tools and Ecosystem"
   ]
  },
  {
   "cell_type": "markdown",
   "id": "b9835f69-9059-4f91-9a05-df99308ae8ba",
   "metadata": {},
   "source": [
    "In this notebook, Data Science Tools and Ecosystem are summarized."
   ]
  },
  {
   "cell_type": "markdown",
   "id": "94b7f600-f6ea-4fcb-836c-bf6c728bef6c",
   "metadata": {},
   "source": [
    "**Objectives:**\n",
    "* Popular languages that Data Scientists\n",
    "* Commonly used libraries used by Data Scientists\n",
    "* Open source Data Science Tools\n",
    "* Arithmetic expression\n",
    "* Python code"
   ]
  },
  {
   "cell_type": "markdown",
   "id": "aa1729f7-f491-45b1-a196-98c3e0bceba4",
   "metadata": {},
   "source": [
    "Some of the popular languages that Data Scientists use are (marked with \" * \" have their own unique use cases) :\n",
    "1. Python, \n",
    "2. R, \n",
    "3. SQL, \n",
    "4. Scala, \n",
    "5. Java, \n",
    "6. C++,\n",
    "7. Julia. \n",
    "8. *JavaScript, \n",
    "9. *PHP, \n",
    "10. *Go,\n",
    "11. *Ruby, \n",
    "12. *Visual Basic"
   ]
  },
  {
   "cell_type": "markdown",
   "id": "418786fe-519d-43ec-8e0e-f422a2ccdbaa",
   "metadata": {},
   "source": [
    "Some of the commonly used libraries used by Data Scientists include:\n",
    "        <br> (1-7) - Python libraries,  (8-16) - R libraries\n",
    "1. Pandas (working with data structures)\n",
    "2. NumPy (multidimensional arrays, mathematical functions, linear algebra ops, etc)\n",
    "3. SciPy (numerical and scientific computing)\n",
    "4. Plotly (interactive visualization - plots, bar charts, histograms, heatmaps, etc)\n",
    "5. Matplotlib\t(creating static, interactive, and publication-quality visualizations)\n",
    "6. Seaborn (tatistical data visualization)\n",
    "7. Statsmodels ( estimating statistical models)\n",
    "8. ggplot2 (visualization)\n",
    "9. dplyr\t(data manipulation)\n",
    "10. tidyr\t(data manipulation)\n",
    "11. caret\t(classification and regression training)\n",
    "12. randomForest (building random forest models)\n",
    "13. glmnet (fitting generalized linear models)\n",
    "14. tidyverse\t(data manipulation, visualization)\n",
    "15. keras\t(building and training deep learning models)\n",
    "16. xgboost\t(classification and regression tasks)"
   ]
  },
  {
   "cell_type": "markdown",
   "id": "034db4e4-084d-4f33-b4ba-627abe8b8582",
   "metadata": {
    "jp-MarkdownHeadingCollapsed": true,
    "tags": []
   },
   "source": [
    "|Data Science Tools|\n",
    "|------------------|\n",
    "|Jupyter Notebook/JupyterLab (web-based;support many languages)|\n",
    "|RStudio (IDE for the R programming language)|\n",
    "|Visual Studio Code or VS Code|"
   ]
  },
  {
   "cell_type": "markdown",
   "id": "655831f5-175a-4037-baa5-7528b6c26770",
   "metadata": {},
   "source": [
    "### Below are a few examples of evaluating arithmetic expressions in Python"
   ]
  },
  {
   "cell_type": "code",
   "execution_count": 1,
   "id": "d1795f0a-fef2-4bd5-a1e5-6e7e2b63122e",
   "metadata": {
    "tags": []
   },
   "outputs": [
    {
     "data": {
      "text/plain": [
       "17"
      ]
     },
     "execution_count": 1,
     "metadata": {},
     "output_type": "execute_result"
    }
   ],
   "source": [
    "#This a simple arithmetic expression to mutiply then add integers\n",
    "(3*4)+5"
   ]
  },
  {
   "cell_type": "code",
   "execution_count": 2,
   "id": "6e0f107c-1c34-4105-8606-aa3c10410df2",
   "metadata": {
    "tags": []
   },
   "outputs": [
    {
     "name": "stdout",
     "output_type": "stream",
     "text": [
      "when convert 200 minutes into hours we get 3 hours and 20 minutes\n",
      "or  3.3333333333333335  hours\n"
     ]
    }
   ],
   "source": [
    "#This will convert 200 minutes to hours by diving by 60\n",
    "\n",
    "# define the number of minutes\n",
    "minutes_for_convert = 200\n",
    "# calculate and print the result\n",
    "print(\"when convert\", minutes_for_convert, \"minutes into hours we get\", minutes_for_convert // 60, \"hours and\", minutes_for_convert % 60, \"minutes\")\n",
    "print(\"or \", minutes_for_convert/60, \" hours\")"
   ]
  },
  {
   "cell_type": "markdown",
   "id": "7b821d09-e1b6-408b-9077-37a61069fd1a",
   "metadata": {},
   "source": [
    "## Author\n",
    "Yurii Oboznyi"
   ]
  },
  {
   "cell_type": "code",
   "execution_count": null,
   "id": "e163e715-f45c-4f46-b76a-c234d88e0aad",
   "metadata": {},
   "outputs": [],
   "source": []
  }
 ],
 "metadata": {
  "kernelspec": {
   "display_name": "Python",
   "language": "python",
   "name": "conda-env-python-py"
  },
  "language_info": {
   "codemirror_mode": {
    "name": "ipython",
    "version": 3
   },
   "file_extension": ".py",
   "mimetype": "text/x-python",
   "name": "python",
   "nbconvert_exporter": "python",
   "pygments_lexer": "ipython3",
   "version": "3.7.12"
  }
 },
 "nbformat": 4,
 "nbformat_minor": 5
}
